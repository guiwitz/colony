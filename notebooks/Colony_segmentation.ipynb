{
 "cells": [
  {
   "cell_type": "code",
   "execution_count": null,
   "metadata": {},
   "outputs": [],
   "source": [
    "from colony import Gui\n",
    "import ipywidgets as ipw"
   ]
  },
  {
   "cell_type": "code",
   "execution_count": null,
   "metadata": {},
   "outputs": [],
   "source": [
    "gui = Gui()"
   ]
  },
  {
   "cell_type": "code",
   "execution_count": null,
   "metadata": {},
   "outputs": [],
   "source": [
    "myHTML = ipw.HTML(\"\"\"<a href=\"https://fl-7-206.zhdk.cloud.switch.ch/user/sknuesel/tree/Colonies\" target=\"_blank\"><b>Use \"New->Folder\" and \"Upload\" to import images<b></a>\"\"\")\n",
    "myHTML"
   ]
  },
  {
   "cell_type": "code",
   "execution_count": null,
   "metadata": {},
   "outputs": [],
   "source": [
    "ipw.VBox(\n",
    "    [\n",
    "        ipw.HTML(\"<b>Pick folder of .jpg<b>\"),\n",
    "        ipw.HBox([gui.folder_sel.file_list,gui.folder_sel.refresh_button]),\n",
    "        ipw.HTML(\"<b>Select one or multiple files to analyze. Load if already analyzed<b>\"),\n",
    "        ipw.HBox([gui.select_file,gui.load_button]),\n",
    "        ipw.HBox([gui.run_button, gui.runall_button, gui.runexp_button]),\n",
    "        gui.save_plots_check,\n",
    "        ipw.HBox([gui.plot_button,gui.save_allplots_button]),\n",
    "        ipw.HBox([gui.save_button]),\n",
    "        gui.out,gui.out_check\n",
    "    ]\n",
    ")"
   ]
  }
 ],
 "metadata": {
  "kernelspec": {
   "display_name": "Python 3",
   "language": "python",
   "name": "python3"
  },
  "language_info": {
   "codemirror_mode": {
    "name": "ipython",
    "version": 3
   },
   "file_extension": ".py",
   "mimetype": "text/x-python",
   "name": "python",
   "nbconvert_exporter": "python",
   "pygments_lexer": "ipython3",
   "version": "3.7.3"
  }
 },
 "nbformat": 4,
 "nbformat_minor": 4
}
