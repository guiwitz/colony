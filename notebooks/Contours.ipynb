{
 "cells": [
  {
   "cell_type": "code",
   "execution_count": null,
   "metadata": {},
   "outputs": [],
   "source": [
    "#%load_ext autoreload\n",
    "#%autoreload 2"
   ]
  },
  {
   "cell_type": "code",
   "execution_count": null,
   "metadata": {},
   "outputs": [],
   "source": [
    "from colony import Analysis\n",
    "import ipywidgets as ipw"
   ]
  },
  {
   "cell_type": "code",
   "execution_count": null,
   "metadata": {},
   "outputs": [],
   "source": [
    "analysis = Analysis()"
   ]
  },
  {
   "cell_type": "code",
   "execution_count": null,
   "metadata": {},
   "outputs": [],
   "source": [
    "ipw.VBox(\n",
    "    [\n",
    "        ipw.HTML(\"<b>Pick an experiment folder (multi-days)<b>\"),\n",
    "        ipw.HBox([analysis.folder_sel.file_list]),\n",
    "        ipw.HTML(\"<b>Select a condition<b>\"),\n",
    "        ipw.HBox([analysis.exp_select, analysis.load_button]),\n",
    "        ipw.HBox([ipw.VBox([ipw.HTML(\"<b>Select a replicate<b>\"),analysis.repl_select]),\n",
    "                ipw.VBox([ipw.HTML(\"<b>Select an experiment<b>\"),analysis.days_select]),\n",
    "                analysis.save_button]),\n",
    "        analysis.out\n",
    "    ])"
   ]
  }
 ],
 "metadata": {
  "kernelspec": {
   "display_name": "Python 3",
   "language": "python",
   "name": "python3"
  },
  "language_info": {
   "codemirror_mode": {
    "name": "ipython",
    "version": 3
   },
   "file_extension": ".py",
   "mimetype": "text/x-python",
   "name": "python",
   "nbconvert_exporter": "python",
   "pygments_lexer": "ipython3",
   "version": "3.7.3"
  }
 },
 "nbformat": 4,
 "nbformat_minor": 4
}
